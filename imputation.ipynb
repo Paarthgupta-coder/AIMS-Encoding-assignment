{
 "cells": [
  {
   "cell_type": "code",
   "execution_count": 6,
   "id": "3b7922c3",
   "metadata": {},
   "outputs": [
    {
     "name": "stdout",
     "output_type": "stream",
     "text": [
      "Original DataFrame:\n",
      "        sales          city    size\n",
      "0    100000.0         Tampa   Small\n",
      "1    222000.0         Tampa  Medium\n",
      "2   1000000.0       Orlando   Large\n",
      "3         NaN  Jacksonville   Large\n",
      "4    111111.0         Miami   Small\n",
      "5    222222.0  Jacksonville  Medium\n",
      "6   1111111.0         Miami   Large\n",
      "7     20000.0         Miami   Small\n",
      "8         NaN       Orlando  Medium\n",
      "9     90000.0           NaN  Medium\n",
      "10  1000000.0       Orlando     NaN\n",
      "11    10000.0       Orlando   Small\n"
     ]
    }
   ],
   "source": [
    "import pandas as pd\n",
    "import numpy as np\n",
    "\n",
    "# my dataset with som missing values --> -->\n",
    "d = {\n",
    "    'sales': [100000, 222000, 1000000, np.nan, 111111, 222222, 1111111, 20000, np.nan, 90000, 1000000, 10000],\n",
    "    'city': ['Tampa', 'Tampa', 'Orlando', 'Jacksonville', 'Miami', 'Jacksonville', 'Miami', 'Miami', 'Orlando', np.nan, 'Orlando', 'Orlando'],\n",
    "    'size': ['Small', 'Medium', 'Large', 'Large', 'Small', 'Medium', 'Large', 'Small', 'Medium', 'Medium', np.nan, 'Small']\n",
    "}\n",
    "df = pd.DataFrame(data=d)\n",
    "print(\"Original DataFrame:\")\n",
    "print(df)"
   ]
  },
  {
   "cell_type": "code",
   "execution_count": 7,
   "id": "9012755c",
   "metadata": {},
   "outputs": [
    {
     "name": "stdout",
     "output_type": "stream",
     "text": [
      "        sales          city    size  sales_imputed\n",
      "0    100000.0         Tampa   Small       100000.0\n",
      "1    222000.0         Tampa  Medium       222000.0\n",
      "2   1000000.0       Orlando   Large      1000000.0\n",
      "3         NaN  Jacksonville   Large       388644.4\n",
      "4    111111.0         Miami   Small       111111.0\n",
      "5    222222.0  Jacksonville  Medium       222222.0\n",
      "6   1111111.0         Miami   Large      1111111.0\n",
      "7     20000.0         Miami   Small        20000.0\n",
      "8         NaN       Orlando  Medium       388644.4\n",
      "9     90000.0           NaN  Medium        90000.0\n",
      "10  1000000.0       Orlando     NaN      1000000.0\n",
      "11    10000.0       Orlando   Small        10000.0\n"
     ]
    },
    {
     "name": "stderr",
     "output_type": "stream",
     "text": [
      "<ipython-input-7-d7264dad6a4e>:5: SettingWithCopyWarning: \n",
      "A value is trying to be set on a copy of a slice from a DataFrame\n",
      "\n",
      "See the caveats in the documentation: https://pandas.pydata.org/pandas-docs/stable/user_guide/indexing.html#returning-a-view-versus-a-copy\n",
      "  df['sales_imputed'][empty_cell] = mean_sales\n"
     ]
    }
   ],
   "source": [
    "mean_sales = np.nanmean(df['sales'])\n",
    "\n",
    "empty_cell=df['sales'].isnull()\n",
    "df['sales_imputed'] = df['sales'] \n",
    "df['sales_imputed'][empty_cell] = mean_sales\n",
    "print(df)"
   ]
  }
 ],
 "metadata": {
  "kernelspec": {
   "display_name": "base",
   "language": "python",
   "name": "python3"
  },
  "language_info": {
   "codemirror_mode": {
    "name": "ipython",
    "version": 3
   },
   "file_extension": ".py",
   "mimetype": "text/x-python",
   "name": "python",
   "nbconvert_exporter": "python",
   "pygments_lexer": "ipython3",
   "version": "3.8.8"
  }
 },
 "nbformat": 4,
 "nbformat_minor": 5
}
