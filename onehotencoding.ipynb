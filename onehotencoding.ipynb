{
 "cells": [
  {
   "cell_type": "code",
   "execution_count": 1,
   "id": "29a38c8b",
   "metadata": {},
   "outputs": [],
   "source": [
    "import pandas as pd\n",
    "\n",
    "d = {\n",
    "    'sales': [100000, 222000, 1000000, 522000, 111111, 222222, 1111111, 20000, 75000, 90000, 1000000, 10000],\n",
    "    'city': ['Tampa', 'Tampa', 'Orlando', 'Jacksonville', 'Miami', 'Jacksonville', 'Miami', 'Miami', 'Orlando', 'Orlando', 'Orlando', 'Orlando'],\n",
    "    'size': ['Small', 'Medium', 'Large', 'Large', 'Small', 'Medium', 'Large', 'Small', 'Medium', 'Medium', 'Medium', 'Small']\n",
    "}\n",
    "\n",
    "df = pd.DataFrame(data=d)\n",
    "sizes = ['Small', 'Medium', 'Large']\n"
   ]
  },
  {
   "cell_type": "code",
   "execution_count": 2,
   "id": "87e32dfc",
   "metadata": {},
   "outputs": [],
   "source": [
    "diff_sizes=df['size'].unique()"
   ]
  },
  {
   "cell_type": "code",
   "execution_count": 3,
   "id": "d6d8d9df",
   "metadata": {},
   "outputs": [
    {
     "name": "stdout",
     "output_type": "stream",
     "text": [
      "      sales          city    size  Small  Medium  Large\n",
      "0    100000         Tampa   Small      1       0      0\n",
      "1    222000         Tampa  Medium      0       1      0\n",
      "2   1000000       Orlando   Large      0       0      1\n",
      "3    522000  Jacksonville   Large      0       0      1\n",
      "4    111111         Miami   Small      1       0      0\n",
      "5    222222  Jacksonville  Medium      0       1      0\n",
      "6   1111111         Miami   Large      0       0      1\n",
      "7     20000         Miami   Small      1       0      0\n",
      "8     75000       Orlando  Medium      0       1      0\n",
      "9     90000       Orlando  Medium      0       1      0\n",
      "10  1000000       Orlando  Medium      0       1      0\n",
      "11    10000       Orlando   Small      1       0      0\n"
     ]
    }
   ],
   "source": [
    "for value in diff_sizes:\n",
    "    df[value]=(df['size']==value).astype(int)\n",
    "# i am using the above line of code to check is size is eq to the value... \n",
    "# this gives me a true/false result, so i turn true and fals einto integer values 1,0  :)\n",
    "print(df)\n"
   ]
  },
  {
   "cell_type": "code",
   "execution_count": null,
   "id": "4c2045be",
   "metadata": {},
   "outputs": [],
   "source": []
  }
 ],
 "metadata": {
  "kernelspec": {
   "display_name": "base",
   "language": "python",
   "name": "python3"
  },
  "language_info": {
   "codemirror_mode": {
    "name": "ipython",
    "version": 3
   },
   "file_extension": ".py",
   "mimetype": "text/x-python",
   "name": "python",
   "nbconvert_exporter": "python",
   "pygments_lexer": "ipython3",
   "version": "3.8.8"
  }
 },
 "nbformat": 4,
 "nbformat_minor": 5
}
