{
 "cells": [
  {
   "cell_type": "code",
   "execution_count": 2,
   "id": "31a3cad5",
   "metadata": {},
   "outputs": [],
   "source": [
    "import pandas as pd"
   ]
  },
  {
   "cell_type": "code",
   "execution_count": 3,
   "id": "55306528",
   "metadata": {},
   "outputs": [],
   "source": [
    "d = {'sales': [100000,222000,1000000,522000,111111,222222,1111111,20000,75000,90000,1000000,10000],\n",
    "'city': ['Tampa','Tampa','Orlando','Jacksonville','Miami','Jacksonville','Miami','Miami','Orlando','Orlando','Orlando','Orlando'],\n",
    "'size': ['Small', 'Medium','Large','Large','Small','Medium','Large','Small','Medium','Medium','Medium','Small',]}"
   ]
  },
  {
   "cell_type": "code",
   "execution_count": 4,
   "id": "c610635c",
   "metadata": {},
   "outputs": [],
   "source": [
    "df=pd.DataFrame(data=d)"
   ]
  },
  {
   "cell_type": "code",
   "execution_count": 5,
   "id": "3cfdb3e0",
   "metadata": {},
   "outputs": [
    {
     "data": {
      "text/plain": [
       "<bound method NDFrame.head of       sales          city    size\n",
       "0    100000         Tampa   Small\n",
       "1    222000         Tampa  Medium\n",
       "2   1000000       Orlando   Large\n",
       "3    522000  Jacksonville   Large\n",
       "4    111111         Miami   Small\n",
       "5    222222  Jacksonville  Medium\n",
       "6   1111111         Miami   Large\n",
       "7     20000         Miami   Small\n",
       "8     75000       Orlando  Medium\n",
       "9     90000       Orlando  Medium\n",
       "10  1000000       Orlando  Medium\n",
       "11    10000       Orlando   Small>"
      ]
     },
     "execution_count": 5,
     "metadata": {},
     "output_type": "execute_result"
    }
   ],
   "source": [
    "df.head"
   ]
  },
  {
   "cell_type": "code",
   "execution_count": 6,
   "id": "ce271247",
   "metadata": {},
   "outputs": [
    {
     "data": {
      "text/plain": [
       "array(['Small', 'Medium', 'Large'], dtype=object)"
      ]
     },
     "execution_count": 6,
     "metadata": {},
     "output_type": "execute_result"
    }
   ],
   "source": [
    "df['size'].unique()"
   ]
  },
  {
   "cell_type": "code",
   "execution_count": 8,
   "id": "a2c29397",
   "metadata": {},
   "outputs": [
    {
     "name": "stdout",
     "output_type": "stream",
     "text": [
      "      sales          city    size  size_encoded\n",
      "0    100000         Tampa   Small             0\n",
      "1    222000         Tampa  Medium             1\n",
      "2   1000000       Orlando   Large             2\n",
      "3    522000  Jacksonville   Large             2\n",
      "4    111111         Miami   Small             0\n",
      "5    222222  Jacksonville  Medium             1\n",
      "6   1111111         Miami   Large             2\n",
      "7     20000         Miami   Small             0\n",
      "8     75000       Orlando  Medium             1\n",
      "9     90000       Orlando  Medium             1\n",
      "10  1000000       Orlando  Medium             1\n",
      "11    10000       Orlando   Small             0\n"
     ]
    }
   ],
   "source": [
    "sizes=['Small', 'Medium', 'Large']\n",
    "size_to_number = {'Small': 0, 'Medium': 1, 'Large': 2}\n",
    "df['size_encoded'] = df['size'].map(size_to_number)\n",
    "\n",
    "print(df)"
   ]
  },
  {
   "cell_type": "code",
   "execution_count": null,
   "id": "39e89e90",
   "metadata": {},
   "outputs": [],
   "source": []
  }
 ],
 "metadata": {
  "kernelspec": {
   "display_name": "base",
   "language": "python",
   "name": "python3"
  },
  "language_info": {
   "codemirror_mode": {
    "name": "ipython",
    "version": 3
   },
   "file_extension": ".py",
   "mimetype": "text/x-python",
   "name": "python",
   "nbconvert_exporter": "python",
   "pygments_lexer": "ipython3",
   "version": "3.8.8"
  }
 },
 "nbformat": 4,
 "nbformat_minor": 5
}
